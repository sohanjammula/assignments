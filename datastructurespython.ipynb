{
 "cells": [
  {
   "cell_type": "markdown",
   "id": "03bf96c6-66b4-45b3-94ba-0c6a5d7aa134",
   "metadata": {},
   "source": [
    "searching and sorting "
   ]
  },
  {
   "cell_type": "code",
   "execution_count": 2,
   "id": "4affd0fd-4be5-4493-846b-58484d67e984",
   "metadata": {
    "tags": []
   },
   "outputs": [
    {
     "name": "stdout",
     "output_type": "stream",
     "text": [
      "(True, 3)\n"
     ]
    }
   ],
   "source": [
    "def Sequential_Search(dlist, item):\n",
    "\n",
    "    pos = 0\n",
    "    found = False\n",
    "    \n",
    "    while pos < len(dlist) and not found:\n",
    "        if dlist[pos] == item:\n",
    "            found = True\n",
    "        else:\n",
    "            pos = pos + 1\n",
    "    \n",
    "    return found, pos\n",
    "\n",
    "print(Sequential_Search([11,23,58,31,56,77,43,12,65,19],31))\n"
   ]
  },
  {
   "cell_type": "code",
   "execution_count": 4,
   "id": "d46b8c36-81f6-414b-aec1-cd2cbdd76a5c",
   "metadata": {
    "tags": []
   },
   "outputs": [
    {
     "name": "stdout",
     "output_type": "stream",
     "text": [
      "False\n",
      "True\n"
     ]
    }
   ],
   "source": [
    "def binary_search(item_list,item):\n",
    "\tfirst = 0\n",
    "\tlast = len(item_list)-1\n",
    "\tfound = False\n",
    "\twhile( first<=last and not found):\n",
    "\t\tmid = (first + last)//2\n",
    "\t\tif item_list[mid] == item :\n",
    "\t\t\tfound = True\n",
    "\t\telse:\n",
    "\t\t\tif item < item_list[mid]:\n",
    "\t\t\t\tlast = mid - 1\n",
    "\t\t\telse:\n",
    "\t\t\t\tfirst = mid + 1\t\n",
    "\treturn found\n",
    "\t\n",
    "print(binary_search([1,2,3,5,8], 6))\n",
    "print(binary_search([1,2,3,5,8], 5))"
   ]
  },
  {
   "cell_type": "code",
   "execution_count": 6,
   "id": "1926c93a-8614-488b-b0f9-a27978128655",
   "metadata": {
    "tags": []
   },
   "outputs": [
    {
     "name": "stdout",
     "output_type": "stream",
     "text": [
      "True\n",
      "False\n"
     ]
    }
   ],
   "source": [
    "def Ordered_binary_Search(olist, item):\n",
    "    \n",
    "    if len(olist) == 0:\n",
    "        return False\n",
    "    else:\n",
    "        midpoint = len(olist) // 2\n",
    "        if olist[midpoint] == item:\n",
    "            return True\n",
    "        else:\n",
    "            if item < olist[midpoint]:\n",
    "                return binarySearch(olist[:midpoint], item)\n",
    "            else:\n",
    "                return binarySearch(olist[midpoint+1:], item)\n",
    "\n",
    "def binarySearch(alist, item):\n",
    "\n",
    "    first = 0\n",
    "    last = len(alist) - 1\n",
    "    found = False\n",
    "\n",
    "    while first <= last and not found:\n",
    "        midpoint = (first + last) // 2\n",
    "        if alist[midpoint] == item:\n",
    "            found = True\n",
    "        else:\n",
    "            if item < alist[midpoint]:\n",
    "                last = midpoint - 1\n",
    "            else:\n",
    "                first = midpoint + 1\n",
    "\n",
    "    return found\n",
    "\n",
    "print(Ordered_binary_Search([0, 1, 3, 8, 14, 18, 19, 34, 52], 3))\n",
    "print(Ordered_binary_Search([0, 1, 3, 8, 14, 18, 19, 34, 52], 17))"
   ]
  },
  {
   "cell_type": "markdown",
   "id": "12ab9db5-43a6-44d4-b42d-6e172065e0bf",
   "metadata": {},
   "source": [
    "###sorting"
   ]
  },
  {
   "cell_type": "code",
   "execution_count": 9,
   "id": "62836f74-c63b-4d7c-9926-6237888da590",
   "metadata": {
    "tags": []
   },
   "outputs": [
    {
     "name": "stdout",
     "output_type": "stream",
     "text": [
      "Sorted array is:\n",
      "1\n",
      "2\n",
      "10\n",
      "23\n"
     ]
    }
   ],
   "source": [
    "# Python3 program for Bubble Sort Algorithm Implementation\n",
    "def bubbleSort(arr):\n",
    "     \n",
    "    n = len(arr)\n",
    " \n",
    "    # For loop to traverse through all \n",
    "    # element in an array\n",
    "    for i in range(n):\n",
    "        for j in range(0, n - i - 1):\n",
    "             \n",
    "            # Range of the array is from 0 to n-i-1\n",
    "            # Swap the elements if the element found \n",
    "            #is greater than the adjacent element\n",
    "            if arr[j] > arr[j + 1]:\n",
    "                arr[j], arr[j + 1] = arr[j + 1], arr[j]\n",
    "                 \n",
    "# Driver code\n",
    " \n",
    "# Example to test the above code\n",
    "arr = [ 2, 1, 10, 23 ]\n",
    " \n",
    "bubbleSort(arr)\n",
    " \n",
    "print(\"Sorted array is:\")\n",
    "for i in range(len(arr)):\n",
    "    print(\"%d\" % arr[i])"
   ]
  },
  {
   "cell_type": "code",
   "execution_count": 11,
   "id": "21744e26-d6db-438f-bd45-e247113bfda8",
   "metadata": {
    "tags": []
   },
   "outputs": [
    {
     "name": "stdout",
     "output_type": "stream",
     "text": [
      "Sorted Array in Ascending Order is :\n",
      "[1, 2, 6, 7]\n"
     ]
    }
   ],
   "source": [
    "# Selection Sort algorithm in Python\n",
    "def selectionSort(array, size):\n",
    "     \n",
    "    for s in range(size):\n",
    "        min_idx = s\n",
    "         \n",
    "        for i in range(s + 1, size):\n",
    "             \n",
    "            # For sorting in descending order\n",
    "            # for minimum element in each loop\n",
    "            if array[i] < array[min_idx]:\n",
    "                min_idx = i\n",
    " \n",
    "        # Arranging min at the correct position\n",
    "        (array[s], array[min_idx]) = (array[min_idx], array[s])\n",
    " \n",
    "# Driver code\n",
    "data = [ 7, 2, 1, 6 ]\n",
    "size = len(data)\n",
    "selectionSort(data, size)\n",
    " \n",
    "print('Sorted Array in Ascending Order is :')\n",
    "print(data)"
   ]
  },
  {
   "cell_type": "code",
   "execution_count": 13,
   "id": "7b4ab176-412d-4ee9-8cc8-2af2aed13094",
   "metadata": {
    "tags": []
   },
   "outputs": [
    {
     "name": "stdout",
     "output_type": "stream",
     "text": [
      "The unsorted list is: [7, 2, 1, 6]\n",
      "The sorted new list is: [1, 2, 6, 7]\n"
     ]
    }
   ],
   "source": [
    "# Creating a function for insertion sort algorithm\n",
    "def insertion_sort(list1):  \n",
    "   \n",
    "        # Outer loop to traverse on len(list1)  \n",
    "        for i in range(1, len(list1)):  \n",
    "   \n",
    "            a = list1[i]  \n",
    "   \n",
    "            # Move elements of list1[0 to i-1], \n",
    "            # which are greater to one position\n",
    "            # ahead of their current position  \n",
    "            j = i - 1 \n",
    "           \n",
    "            while j >= 0 and a < list1[j]:  \n",
    "                list1[j + 1] = list1[j]  \n",
    "                j -= 1 \n",
    "                 \n",
    "            list1[j + 1] = a  \n",
    "             \n",
    "        return list1  \n",
    "            \n",
    "# Driver code\n",
    "list1 = [ 7, 2, 1, 6 ]  \n",
    "print(\"The unsorted list is:\", list1)  \n",
    "print(\"The sorted new list is:\", insertion_sort(list1))"
   ]
  },
  {
   "cell_type": "markdown",
   "id": "9079067e-09d8-49fd-bbe7-b368de16de65",
   "metadata": {},
   "source": [
    "linked list"
   ]
  },
  {
   "cell_type": "code",
   "execution_count": 23,
   "id": "c17ca7de-43d7-44f6-a829-b12149fcaa44",
   "metadata": {
    "tags": []
   },
   "outputs": [
    {
     "name": "stdout",
     "output_type": "stream",
     "text": [
      "PHP\n",
      "Python\n",
      "C#\n",
      "C++\n",
      "Java\n",
      "\n",
      "head.data:  PHP\n",
      "tail.data:  Java\n"
     ]
    }
   ],
   "source": [
    "class Node:\n",
    "    # Singly linked node\n",
    "    def __init__(self, data=None):\n",
    "        self.data = data\n",
    "        self.next = None\n",
    "class singly_linked_list:\n",
    "    def __init__(self):\n",
    "        # Createe an empty list\n",
    "        self.head = None\n",
    "        self.tail = None\n",
    "        self.count = 0\n",
    "    def iterate_item(self):\n",
    "        # Iterate the list.\n",
    "        current_item = self.head\n",
    "        while current_item:\n",
    "            val = current_item.data\n",
    "            current_item = current_item.next\n",
    "            yield val\n",
    "    def append_item(self, data):\n",
    "        #Append items on the list\n",
    "        node = Node(data)\n",
    "        if self.tail:\n",
    "            self.tail.next = node\n",
    "            self.tail = node\n",
    "        else:\n",
    "            self.head = node\n",
    "            self.tail = node\n",
    "        self.count += 1\n",
    "items = singly_linked_list()\n",
    "items.append_item('PHP')\n",
    "items.append_item('Python')\n",
    "items.append_item('C#')\n",
    "items.append_item('C++')\n",
    "items.append_item('Java')\n",
    "for val in items.iterate_item():\n",
    "    print(val)\n",
    "    \n",
    "print(\"\\nhead.data: \",items.head.data)\n",
    "print(\"tail.data: \",items.tail.data)"
   ]
  },
  {
   "cell_type": "code",
   "execution_count": 18,
   "id": "e527ff53-70cb-4f57-ba07-148f2deef61d",
   "metadata": {
    "tags": []
   },
   "outputs": [],
   "source": [
    " def search_item(self, val):\n",
    "         # Search the list\n",
    "         for node in self.iterate_item():\n",
    "             if val == node:\n",
    "                 return True\n",
    "         return False"
   ]
  },
  {
   "cell_type": "code",
   "execution_count": null,
   "id": "2defbc4c-256b-4ea0-9d90-3810bad7e680",
   "metadata": {},
   "outputs": [],
   "source": [
    "def __getitem__(self, index):\n",
    "        if index > self.count - 1:\n",
    "            return \"Index out of range\"\n",
    "        current_val = self.tail\n",
    "        for n in range(index):\n",
    "            current_val = current_val.next\n",
    "        return current_val.data"
   ]
  },
  {
   "cell_type": "code",
   "execution_count": 25,
   "id": "1a9c129e-f520-47b1-af58-4309d5dc7a47",
   "metadata": {
    "tags": []
   },
   "outputs": [
    {
     "name": "stdout",
     "output_type": "stream",
     "text": [
      "Items in the Doubly linked list: \n",
      "PHP\n",
      "Python\n",
      "C#\n",
      "C++\n",
      "Java\n"
     ]
    }
   ],
   "source": [
    "class Node(object):\n",
    "    # Doubly linked node\n",
    "    def __init__(self, data=None, next=None, prev=None):\n",
    "        self.data = data\n",
    "        self.next = next\n",
    "        self.prev = prev\n",
    "\n",
    "class doubly_linked_list(object):\n",
    "    def __init__(self):\n",
    "        self.head = None\n",
    "        self.tail = None\n",
    "        self.count = 0\n",
    "\n",
    "    def append_item(self, data):\n",
    "        # Append an item \n",
    "        new_item = Node(data, None, None)\n",
    "        if self.head is None:\n",
    "            self.head = new_item\n",
    "            self.tail = self.head\n",
    "        else:\n",
    "            new_item.prev = self.tail\n",
    "            self.tail.next = new_item\n",
    "            self.tail = new_item\n",
    "\n",
    "        self.count += 1\n",
    "\n",
    "    def print_foward(self):\n",
    "        for node in self.iter():\n",
    "            print(node)\n",
    "            \n",
    "    def iter(self):\n",
    "        # Iterate the list\n",
    "        current = self.head\n",
    "        while current:\n",
    "            item_val = current.data\n",
    "            current = current.next\n",
    "            yield item_val\n",
    "\n",
    "items = doubly_linked_list()\n",
    "items.append_item('PHP')\n",
    "items.append_item('Python')\n",
    "items.append_item('C#')\n",
    "items.append_item('C++')\n",
    "items.append_item('Java')\n",
    "\n",
    "print(\"Items in the Doubly linked list: \")\n",
    "items.print_foward()"
   ]
  },
  {
   "cell_type": "code",
   "execution_count": 27,
   "id": "5d326168-75ca-4b7b-9220-6da624531998",
   "metadata": {
    "tags": []
   },
   "outputs": [],
   "source": [
    " def reverse(self):\n",
    "        \"\"\" Reverse linked list. \"\"\"\n",
    "        current = self.head\n",
    "        while current:\n",
    "            temp = current.next\n",
    "            current.next = current.prev\n",
    "            current.prev = temp\n",
    "            current = current.prev\n",
    "        temp = self.head\n",
    "        self.head = self.tail\n",
    "        self.tail = temp"
   ]
  },
  {
   "cell_type": "code",
   "execution_count": 29,
   "id": "c66044f1-f82e-478d-807a-e251311203de",
   "metadata": {
    "tags": []
   },
   "outputs": [
    {
     "name": "stdout",
     "output_type": "stream",
     "text": [
      "4\n",
      "2\n",
      "1\n",
      "3\n",
      "6\n",
      "5\n",
      "7\n"
     ]
    }
   ],
   "source": [
    "class TreeNode(object):\n",
    "    def __init__(self, x):\n",
    "        self.val = x\n",
    "        self.left = None\n",
    "        self.right = None\n",
    "\n",
    "def sorted_array_to_bst(nums):\n",
    "    \n",
    "    if not nums:\n",
    "        return None\n",
    "    mid_val = len(nums)//2\n",
    "    node = TreeNode(nums[mid_val])\n",
    "    node.left = sorted_array_to_bst(nums[:mid_val])\n",
    "    node.right = sorted_array_to_bst(nums[mid_val+1:])\n",
    "    return node\n",
    "\n",
    "def preOrder(node): \n",
    "    if not node: \n",
    "        return      \n",
    "    print(node.val)\n",
    "    preOrder(node.left) \n",
    "    preOrder(node.right)   \n",
    "    \n",
    "result = sorted_array_to_bst([1, 2, 3, 4, 5, 6, 7])\n",
    "preOrder(result)"
   ]
  },
  {
   "cell_type": "code",
   "execution_count": 31,
   "id": "877bbb41-ce0c-4822-aa5b-fa9ca4fab4fb",
   "metadata": {
    "tags": []
   },
   "outputs": [
    {
     "name": "stdout",
     "output_type": "stream",
     "text": [
      "True\n",
      "False\n"
     ]
    }
   ],
   "source": [
    "class TreeNode(object):\n",
    "    def __init__(self, x):\n",
    "        self.val = x\n",
    "        self.left = None\n",
    "        self.right = None\n",
    "\n",
    "def is_BST(root):\n",
    "    stack = []\n",
    "    prev = None\n",
    "    \n",
    "    while root or stack:\n",
    "        while root:\n",
    "            stack.append(root)\n",
    "            root = root.left\n",
    "        root = stack.pop()\n",
    "        if prev and root.val <= prev.val:\n",
    "            return False\n",
    "        prev = root\n",
    "        root = root.right\n",
    "    return True\n",
    "\n",
    "root = TreeNode(2)  \n",
    "root.left = TreeNode(1)  \n",
    "root.right = TreeNode(3) \n",
    " \n",
    "result = is_BST(root)\n",
    "print(result)\n",
    "\n",
    "root = TreeNode(1)  \n",
    "root.left = TreeNode(2)  \n",
    "root.right = TreeNode(3) \n",
    " \n",
    "result = is_BST(root)\n",
    "print(result)"
   ]
  },
  {
   "cell_type": "markdown",
   "id": "b2b3bbc7-23bb-49b8-8bdb-7fa0a34c6851",
   "metadata": {},
   "source": [
    "heap queue"
   ]
  },
  {
   "cell_type": "code",
   "execution_count": null,
   "id": "a1b36086-7ee3-4a01-b03d-504081a6de65",
   "metadata": {},
   "outputs": [],
   "source": []
  },
  {
   "cell_type": "code",
   "execution_count": 36,
   "id": "46fd4a11-1930-4127-8bbe-be1c6f070219",
   "metadata": {
    "tags": []
   },
   "outputs": [
    {
     "name": "stdout",
     "output_type": "stream",
     "text": [
      "Original list:\n",
      "[25, 35, 22, 85, 14, 65, 75, 22, 58]\n",
      "\n",
      "Three largest numbers are: [85, 75, 65]\n"
     ]
    }
   ],
   "source": [
    "import heapq as hq\n",
    "nums_list = [25, 35, 22, 85, 14, 65, 75, 22, 58]\n",
    "print(\"Original list:\")\n",
    "print(nums_list)\n",
    "# Find three largest values\n",
    "largest_nums = hq.nlargest(3, nums_list)\n",
    "print(\"\\nThree largest numbers are:\", largest_nums)"
   ]
  },
  {
   "cell_type": "code",
   "execution_count": 38,
   "id": "c5248152-f243-4760-9854-cff46cad1c01",
   "metadata": {
    "tags": []
   },
   "outputs": [
    {
     "name": "stdout",
     "output_type": "stream",
     "text": [
      "Original list:\n",
      "[25, 35, 22, 85, 14, 65, 75, 22, 58]\n",
      "\n",
      "Three smallest numbers are: [14, 22, 22]\n"
     ]
    }
   ],
   "source": [
    "import heapq as hq\n",
    "nums_list = [25, 35, 22, 85, 14, 65, 75, 22, 58]\n",
    "print(\"Original list:\")\n",
    "print(nums_list)\n",
    "# Find three smallest values\n",
    "largest_nums = hq.nsmallest(3, nums_list)\n",
    "print(\"\\nThree smallest numbers are:\", largest_nums)"
   ]
  },
  {
   "cell_type": "code",
   "execution_count": 82,
   "id": "83f874b9-6e4f-4424-85f4-a460daa4f051",
   "metadata": {},
   "outputs": [],
   "source": [
    "l1 = (2,3,4,5,6,7,8,912,35,344,76,35,3,3,8)"
   ]
  },
  {
   "cell_type": "code",
   "execution_count": 83,
   "id": "2161453c-b99c-4f96-9b19-8785e989814f",
   "metadata": {
    "tags": []
   },
   "outputs": [
    {
     "data": {
      "text/plain": [
       "(2, 3, 4, 5, 6, 7, 8, 912, 35, 344, 76, 35, 3, 3, 8)"
      ]
     },
     "execution_count": 83,
     "metadata": {},
     "output_type": "execute_result"
    }
   ],
   "source": [
    "l1"
   ]
  },
  {
   "cell_type": "code",
   "execution_count": 84,
   "id": "2ea7c090-761e-4325-b23c-2111e6243b93",
   "metadata": {
    "tags": []
   },
   "outputs": [],
   "source": [
    "def remove_duplicates(l):\n",
    "    return list(set(l))"
   ]
  },
  {
   "cell_type": "code",
   "execution_count": 87,
   "id": "6ac3c221-bfb8-41a6-ae75-32acfb0b34f5",
   "metadata": {
    "tags": []
   },
   "outputs": [
    {
     "data": {
      "text/plain": [
       "[2, 3, 4, 5, 6, 7, 8, 35, 76, 912, 344]"
      ]
     },
     "execution_count": 87,
     "metadata": {},
     "output_type": "execute_result"
    }
   ],
   "source": [
    "remove_duplicates(l1)"
   ]
  },
  {
   "cell_type": "code",
   "execution_count": 89,
   "id": "711c3d22-692a-4812-8cd2-2834ea449b29",
   "metadata": {
    "tags": []
   },
   "outputs": [
    {
     "data": {
      "text/plain": [
       "{2, 3, 4, 5, 6, 7, 8, 35, 76, 344, 912}"
      ]
     },
     "execution_count": 89,
     "metadata": {},
     "output_type": "execute_result"
    }
   ],
   "source": [
    "set(l1)"
   ]
  },
  {
   "cell_type": "code",
   "execution_count": 90,
   "id": "54956cc4-ed2b-4227-afc0-7d84c736a97e",
   "metadata": {
    "tags": []
   },
   "outputs": [],
   "source": [
    "def count_duplicates(l,element):\n",
    "    return l.count(element)"
   ]
  },
  {
   "cell_type": "code",
   "execution_count": 94,
   "id": "e89bc7be-7df3-4564-a85b-a08cab57f5ef",
   "metadata": {
    "tags": []
   },
   "outputs": [
    {
     "data": {
      "text/plain": [
       "3"
      ]
     },
     "execution_count": 94,
     "metadata": {},
     "output_type": "execute_result"
    }
   ],
   "source": [
    "count_duplicates(l1,3)"
   ]
  },
  {
   "cell_type": "code",
   "execution_count": 96,
   "id": "13026cb5-926f-4e39-a818-bb42a5807f80",
   "metadata": {
    "tags": []
   },
   "outputs": [
    {
     "data": {
      "text/plain": [
       "3"
      ]
     },
     "execution_count": 96,
     "metadata": {},
     "output_type": "execute_result"
    }
   ],
   "source": [
    "l1.count(3)"
   ]
  },
  {
   "cell_type": "code",
   "execution_count": 98,
   "id": "3c9769c1-4d75-431f-806c-7b4117529d20",
   "metadata": {
    "tags": []
   },
   "outputs": [
    {
     "data": {
      "text/plain": [
       "2"
      ]
     },
     "execution_count": 98,
     "metadata": {},
     "output_type": "execute_result"
    }
   ],
   "source": [
    "l1.count(8)"
   ]
  },
  {
   "cell_type": "code",
   "execution_count": 100,
   "id": "ace90826-ad07-4b42-9d2b-34529e378ab3",
   "metadata": {
    "tags": []
   },
   "outputs": [
    {
     "data": {
      "text/plain": [
       "1"
      ]
     },
     "execution_count": 100,
     "metadata": {},
     "output_type": "execute_result"
    }
   ],
   "source": [
    "l1.count(2)"
   ]
  },
  {
   "cell_type": "code",
   "execution_count": 106,
   "id": "0ef358d2-e3d8-4b66-b085-6931c76caba2",
   "metadata": {
    "tags": []
   },
   "outputs": [
    {
     "data": {
      "text/plain": [
       "9"
      ]
     },
     "execution_count": 106,
     "metadata": {},
     "output_type": "execute_result"
    }
   ],
   "source": [
    "l1.index(344)"
   ]
  },
  {
   "cell_type": "code",
   "execution_count": 110,
   "id": "cdc4d011-899d-42ee-8b29-3e6a1f684c8c",
   "metadata": {
    "tags": []
   },
   "outputs": [],
   "source": [
    "def remove_all_occurrences(nums, target):\n",
    "    return [num for num in nums if num != target]  "
   ]
  },
  {
   "cell_type": "code",
   "execution_count": 112,
   "id": "eb64b619-bb39-4ff8-8192-a4933c43c3cb",
   "metadata": {
    "tags": []
   },
   "outputs": [
    {
     "data": {
      "text/plain": [
       "[2, 3, 4, 5, 6, 7, 8, 912, 35, 76, 35, 3, 3, 8]"
      ]
     },
     "execution_count": 112,
     "metadata": {},
     "output_type": "execute_result"
    }
   ],
   "source": [
    "remove_all_occurrences(l1,344)"
   ]
  },
  {
   "cell_type": "code",
   "execution_count": 135,
   "id": "5990b07e-954e-474f-87a0-298ba1f26909",
   "metadata": {
    "tags": []
   },
   "outputs": [],
   "source": [
    "l=list(l1)"
   ]
  },
  {
   "cell_type": "code",
   "execution_count": 146,
   "id": "ae62f488-53cd-4456-807a-f1e949e1eb4b",
   "metadata": {
    "tags": []
   },
   "outputs": [],
   "source": [
    "def second_largest(num):\n",
    "    return sorted(num)[-2]"
   ]
  },
  {
   "cell_type": "code",
   "execution_count": 148,
   "id": "95358e44-899f-4dc7-8cd0-a0c80c74a37a",
   "metadata": {
    "tags": []
   },
   "outputs": [
    {
     "data": {
      "text/plain": [
       "344"
      ]
     },
     "execution_count": 148,
     "metadata": {},
     "output_type": "execute_result"
    }
   ],
   "source": [
    "second_largest(l)"
   ]
  },
  {
   "cell_type": "code",
   "execution_count": 140,
   "id": "dc14059a-2d78-448f-9229-a013d9eb3908",
   "metadata": {
    "tags": []
   },
   "outputs": [],
   "source": [
    "def sort_list(nums):\n",
    "    return sorted(nums) "
   ]
  },
  {
   "cell_type": "code",
   "execution_count": 144,
   "id": "69f46bfe-6705-4268-8565-8c775121128f",
   "metadata": {
    "tags": []
   },
   "outputs": [
    {
     "data": {
      "text/plain": [
       "[2, 3, 3, 3, 4, 5, 6, 7, 8, 8, 35, 35, 76, 344, 912]"
      ]
     },
     "execution_count": 144,
     "metadata": {},
     "output_type": "execute_result"
    }
   ],
   "source": [
    "sort_list(l)"
   ]
  },
  {
   "cell_type": "code",
   "execution_count": 150,
   "id": "092cd2dd-39dc-46ab-b58f-753f0eca79b0",
   "metadata": {
    "tags": []
   },
   "outputs": [
    {
     "data": {
      "text/plain": [
       "[2, 3, 3, 3, 4, 5, 6, 7, 8, 8, 35, 35, 76, 344, 912]"
      ]
     },
     "execution_count": 150,
     "metadata": {},
     "output_type": "execute_result"
    }
   ],
   "source": [
    "sorted(l)"
   ]
  },
  {
   "cell_type": "code",
   "execution_count": 152,
   "id": "795ad3f3-20a3-4671-8cd1-3527c685ce13",
   "metadata": {
    "tags": []
   },
   "outputs": [
    {
     "data": {
      "text/plain": [
       "[2, 3, 3, 3, 4, 5, 6, 7, 8, 8, 35, 35, 76, 344, 912]"
      ]
     },
     "execution_count": 152,
     "metadata": {},
     "output_type": "execute_result"
    }
   ],
   "source": [
    "sorted(l1)"
   ]
  },
  {
   "cell_type": "code",
   "execution_count": null,
   "id": "18a696c5-0908-4590-bffe-d365900c7adb",
   "metadata": {},
   "outputs": [],
   "source": []
  }
 ],
 "metadata": {
  "kernelspec": {
   "display_name": "Python 3 (ipykernel)",
   "language": "python",
   "name": "python3"
  },
  "language_info": {
   "codemirror_mode": {
    "name": "ipython",
    "version": 3
   },
   "file_extension": ".py",
   "mimetype": "text/x-python",
   "name": "python",
   "nbconvert_exporter": "python",
   "pygments_lexer": "ipython3",
   "version": "3.11.7"
  }
 },
 "nbformat": 4,
 "nbformat_minor": 5
}
