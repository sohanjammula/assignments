{
 "cells": [
  {
   "cell_type": "code",
   "execution_count": 2,
   "id": "a86d3e8a-8bd7-499f-aed4-3d8198dbf46b",
   "metadata": {},
   "outputs": [],
   "source": [
    "import pandas as pd\n",
    "course_name = ['Data Science', 'Machine Learning', 'Big Data', 'Data Engineer']\n",
    "duration = [2,3,6,4]\n",
    "df = pd.DataFrame(data = {'course_name' : course_name, 'duration' : duration})"
   ]
  },
  {
   "cell_type": "code",
   "execution_count": 3,
   "id": "aeb9227a-cf6d-4ec7-b464-5e3b3b7b9199",
   "metadata": {},
   "outputs": [
    {
     "data": {
      "text/html": [
       "<div>\n",
       "<style scoped>\n",
       "    .dataframe tbody tr th:only-of-type {\n",
       "        vertical-align: middle;\n",
       "    }\n",
       "\n",
       "    .dataframe tbody tr th {\n",
       "        vertical-align: top;\n",
       "    }\n",
       "\n",
       "    .dataframe thead th {\n",
       "        text-align: right;\n",
       "    }\n",
       "</style>\n",
       "<table border=\"1\" class=\"dataframe\">\n",
       "  <thead>\n",
       "    <tr style=\"text-align: right;\">\n",
       "      <th></th>\n",
       "      <th>course_name</th>\n",
       "      <th>duration</th>\n",
       "    </tr>\n",
       "  </thead>\n",
       "  <tbody>\n",
       "    <tr>\n",
       "      <th>0</th>\n",
       "      <td>Data Science</td>\n",
       "      <td>2</td>\n",
       "    </tr>\n",
       "    <tr>\n",
       "      <th>1</th>\n",
       "      <td>Machine Learning</td>\n",
       "      <td>3</td>\n",
       "    </tr>\n",
       "    <tr>\n",
       "      <th>2</th>\n",
       "      <td>Big Data</td>\n",
       "      <td>6</td>\n",
       "    </tr>\n",
       "    <tr>\n",
       "      <th>3</th>\n",
       "      <td>Data Engineer</td>\n",
       "      <td>4</td>\n",
       "    </tr>\n",
       "  </tbody>\n",
       "</table>\n",
       "</div>"
      ],
      "text/plain": [
       "        course_name  duration\n",
       "0      Data Science         2\n",
       "1  Machine Learning         3\n",
       "2          Big Data         6\n",
       "3     Data Engineer         4"
      ]
     },
     "execution_count": 3,
     "metadata": {},
     "output_type": "execute_result"
    }
   ],
   "source": [
    "df"
   ]
  },
  {
   "cell_type": "code",
   "execution_count": 4,
   "id": "bf30b4b8-09fd-4a5c-a0a6-17dfa0b042c2",
   "metadata": {},
   "outputs": [
    {
     "data": {
      "text/plain": [
       "course_name    Big Data\n",
       "duration              6\n",
       "Name: 2, dtype: object"
      ]
     },
     "execution_count": 4,
     "metadata": {},
     "output_type": "execute_result"
    }
   ],
   "source": [
    "df.iloc[2]"
   ]
  },
  {
   "cell_type": "code",
   "execution_count": null,
   "id": "44dc210b-58d7-45f4-bd58-572f03c6e1af",
   "metadata": {},
   "outputs": [],
   "source": [
    "Q2. What is the difference between the functions loc and iloc in pandas.DataFrame?\n",
    "\n",
    "answer:\n",
    "In Pandas, both loc and iloc are used for accessing data in a DataFrame, but they have different methods of indexing.\n",
    "\n",
    "loc: This is primarily label-based indexing. It is used when you want to access a group of rows and columns by labels \n",
    "or boolean array. You can pass row labels and column labels to the loc function to access specific rows and columns \n",
    "    based on their labels.\n",
    "iloc: This is primarily integer-based indexing. It is used when you want to access a group of rows and columns by \n",
    "integer position. You can pass integer-based row and column indices to the iloc function to access specific rows and\n",
    "columns based on their integer positions."
   ]
  },
  {
   "cell_type": "code",
   "execution_count": null,
   "id": "3d89a2f7-5357-40d0-8596-cded8882560e",
   "metadata": {},
   "outputs": [],
   "source": [
    "Q3. Reindex the given dataframe using a variable, reindex = [3,0,1,2] and store it in the variable, new_df\n",
    "then find the output for both new_df.loc[2] and new_df.iloc[2]."
   ]
  },
  {
   "cell_type": "code",
   "execution_count": 6,
   "id": "a905b4a8-a938-46ce-9120-842ebb6d3b28",
   "metadata": {},
   "outputs": [],
   "source": [
    "df1=df.reindex([3,0,1,2])"
   ]
  },
  {
   "cell_type": "code",
   "execution_count": 7,
   "id": "1f3b62ca-1316-44f6-953e-d759f75fd5ee",
   "metadata": {},
   "outputs": [
    {
     "data": {
      "text/plain": [
       "course_name    Big Data\n",
       "duration              6\n",
       "Name: 2, dtype: object"
      ]
     },
     "execution_count": 7,
     "metadata": {},
     "output_type": "execute_result"
    }
   ],
   "source": [
    "df1.loc[2]"
   ]
  },
  {
   "cell_type": "code",
   "execution_count": 9,
   "id": "947499ec-91bb-46f8-a363-389c97714adf",
   "metadata": {},
   "outputs": [
    {
     "data": {
      "text/plain": [
       "course_name    Machine Learning\n",
       "duration                      3\n",
       "Name: 1, dtype: object"
      ]
     },
     "execution_count": 9,
     "metadata": {},
     "output_type": "execute_result"
    }
   ],
   "source": [
    "df1.iloc[2]"
   ]
  },
  {
   "cell_type": "code",
   "execution_count": null,
   "id": "7bb32d23-3e6a-4b43-b49d-de2ef550ed04",
   "metadata": {},
   "outputs": [],
   "source": [
    "new_df.loc[2]: This will access the row with the label/index 2 in the DataFrame new_df. \n",
    "Since we have reindexed the DataFrame, 2 is now a label/index, not a positional index. \n",
    "It will return the row with the label/index 2.\n",
    "\n",
    "new_df.iloc[2]: This will access the row at the positional index 2 in the DataFrame new_df. \n",
    "Since iloc is used for integer-based indexing, it accesses rows based on their positional index,\n",
    "not their label/index. It will return the row at the position 2 after reindexing."
   ]
  },
  {
   "cell_type": "code",
   "execution_count": null,
   "id": "4e40cdff-ce2c-4619-92ee-047f34215847",
   "metadata": {},
   "outputs": [],
   "source": [
    "So, if there's a difference in the outputs, it's because loc considers labels/indices, while iloc considers \n",
    "positional indices. If the DataFrame is reindexed differently, loc and iloc may give different results even for\n",
    "the same numerical index. In this case, since we have reindexed the DataFrame, loc[2] accesses the row with the\n",
    "label/index 2 after reindexing, while iloc[2] accesses the row at the position 2 after reindexing."
   ]
  },
  {
   "cell_type": "code",
   "execution_count": 10,
   "id": "474b6791-b5c2-4e6b-8074-b118df13846d",
   "metadata": {},
   "outputs": [],
   "source": [
    "import pandas as pd\n",
    "import numpy as np\n",
    "columns = ['column_1', 'column_2', 'column_3', 'column_4', 'column_5', 'column_6']\n",
    "indices = [1,2,3,4,5,6]\n",
    "#Creating a dataframe:\n",
    "df1 = pd.DataFrame(np.random.rand(6,6), columns = columns, index = indices)"
   ]
  },
  {
   "cell_type": "code",
   "execution_count": 11,
   "id": "b12e243b-9718-4e86-87f1-75c390945bfd",
   "metadata": {},
   "outputs": [
    {
     "data": {
      "text/html": [
       "<div>\n",
       "<style scoped>\n",
       "    .dataframe tbody tr th:only-of-type {\n",
       "        vertical-align: middle;\n",
       "    }\n",
       "\n",
       "    .dataframe tbody tr th {\n",
       "        vertical-align: top;\n",
       "    }\n",
       "\n",
       "    .dataframe thead th {\n",
       "        text-align: right;\n",
       "    }\n",
       "</style>\n",
       "<table border=\"1\" class=\"dataframe\">\n",
       "  <thead>\n",
       "    <tr style=\"text-align: right;\">\n",
       "      <th></th>\n",
       "      <th>column_1</th>\n",
       "      <th>column_2</th>\n",
       "      <th>column_3</th>\n",
       "      <th>column_4</th>\n",
       "      <th>column_5</th>\n",
       "      <th>column_6</th>\n",
       "    </tr>\n",
       "  </thead>\n",
       "  <tbody>\n",
       "    <tr>\n",
       "      <th>1</th>\n",
       "      <td>0.051779</td>\n",
       "      <td>0.809817</td>\n",
       "      <td>0.513468</td>\n",
       "      <td>0.496145</td>\n",
       "      <td>0.819362</td>\n",
       "      <td>0.660050</td>\n",
       "    </tr>\n",
       "    <tr>\n",
       "      <th>2</th>\n",
       "      <td>0.593574</td>\n",
       "      <td>0.402706</td>\n",
       "      <td>0.327123</td>\n",
       "      <td>0.994167</td>\n",
       "      <td>0.239109</td>\n",
       "      <td>0.383687</td>\n",
       "    </tr>\n",
       "    <tr>\n",
       "      <th>3</th>\n",
       "      <td>0.710153</td>\n",
       "      <td>0.342833</td>\n",
       "      <td>0.356370</td>\n",
       "      <td>0.122618</td>\n",
       "      <td>0.565178</td>\n",
       "      <td>0.199307</td>\n",
       "    </tr>\n",
       "    <tr>\n",
       "      <th>4</th>\n",
       "      <td>0.965913</td>\n",
       "      <td>0.273589</td>\n",
       "      <td>0.196100</td>\n",
       "      <td>0.629059</td>\n",
       "      <td>0.267416</td>\n",
       "      <td>0.072403</td>\n",
       "    </tr>\n",
       "    <tr>\n",
       "      <th>5</th>\n",
       "      <td>0.003192</td>\n",
       "      <td>0.520929</td>\n",
       "      <td>0.555377</td>\n",
       "      <td>0.006775</td>\n",
       "      <td>0.854801</td>\n",
       "      <td>0.643322</td>\n",
       "    </tr>\n",
       "    <tr>\n",
       "      <th>6</th>\n",
       "      <td>0.140328</td>\n",
       "      <td>0.471166</td>\n",
       "      <td>0.695986</td>\n",
       "      <td>0.265073</td>\n",
       "      <td>0.975836</td>\n",
       "      <td>0.681666</td>\n",
       "    </tr>\n",
       "  </tbody>\n",
       "</table>\n",
       "</div>"
      ],
      "text/plain": [
       "   column_1  column_2  column_3  column_4  column_5  column_6\n",
       "1  0.051779  0.809817  0.513468  0.496145  0.819362  0.660050\n",
       "2  0.593574  0.402706  0.327123  0.994167  0.239109  0.383687\n",
       "3  0.710153  0.342833  0.356370  0.122618  0.565178  0.199307\n",
       "4  0.965913  0.273589  0.196100  0.629059  0.267416  0.072403\n",
       "5  0.003192  0.520929  0.555377  0.006775  0.854801  0.643322\n",
       "6  0.140328  0.471166  0.695986  0.265073  0.975836  0.681666"
      ]
     },
     "execution_count": 11,
     "metadata": {},
     "output_type": "execute_result"
    }
   ],
   "source": [
    "df1"
   ]
  },
  {
   "cell_type": "code",
   "execution_count": 12,
   "id": "ac46fe5d-e822-4970-aec7-965e38e74954",
   "metadata": {},
   "outputs": [
    {
     "data": {
      "text/plain": [
       "column_1    0.410823\n",
       "column_2    0.470173\n",
       "column_3    0.440737\n",
       "column_4    0.418973\n",
       "column_5    0.620284\n",
       "column_6    0.440073\n",
       "dtype: float64"
      ]
     },
     "execution_count": 12,
     "metadata": {},
     "output_type": "execute_result"
    }
   ],
   "source": [
    "df1.mean()"
   ]
  },
  {
   "cell_type": "code",
   "execution_count": 15,
   "id": "f561abde-79a9-4887-9399-876adbf2fd1a",
   "metadata": {},
   "outputs": [
    {
     "data": {
      "text/plain": [
       "0.18833355297838325"
      ]
     },
     "execution_count": 15,
     "metadata": {},
     "output_type": "execute_result"
    }
   ],
   "source": [
    "df1['column_2'].std()"
   ]
  },
  {
   "cell_type": "code",
   "execution_count": null,
   "id": "e6f9b7a9-a6fd-4a05-bb3e-c690f72d0103",
   "metadata": {},
   "outputs": [],
   "source": [
    "d2=['sohan','jammula','sudhanshu','pwskills','ajay','adapally']"
   ]
  },
  {
   "cell_type": "code",
   "execution_count": 24,
   "id": "08f7d0c3-386b-4d9a-80ca-00bd006f783c",
   "metadata": {},
   "outputs": [],
   "source": [
    "d2=df1.loc[2]"
   ]
  },
  {
   "cell_type": "code",
   "execution_count": 28,
   "id": "43d66b36-95c3-4359-bf57-4608114c5556",
   "metadata": {},
   "outputs": [
    {
     "data": {
      "text/plain": [
       "0.49006103023415526"
      ]
     },
     "execution_count": 28,
     "metadata": {},
     "output_type": "execute_result"
    }
   ],
   "source": [
    "d2.mean()"
   ]
  },
  {
   "cell_type": "code",
   "execution_count": null,
   "id": "07fbe3a6-c84a-4a6d-95aa-e150a7132c7f",
   "metadata": {},
   "outputs": [],
   "source": [
    "Q6. What do you understand about the windows function in pandas and list the types of windows\n",
    "functions?\n",
    "\n",
    "answer:\n",
    "In Pandas, the \"window\" functions refer to a set of operations that can be applied to rolling or expanding windows of data \n",
    "in a DataFrame or Series. These functions are commonly used in time series analysis and other types of data analysis where\n",
    "    you want to perform calculations over moving windows of data.\n",
    "\n",
    "The main types of window functions in Pandas are:\n",
    "\n",
    "Rolling Window Functions:\n",
    "\n",
    "These functions compute aggregate statistics (e.g., mean, sum, min, max) over a specified window of consecutive observations.\n",
    "The window can be defined by either the number of observations (window) or a specific period of time \n",
    "    (window with a freq parameter).\n",
    "Examples include rolling.mean(), rolling.sum(), rolling.min(), rolling.max(), etc.\n",
    "Expanding Window Functions:\n",
    "\n",
    "These functions compute aggregate statistics over all data points up to the current point in time.\n",
    "The size of the window increases with each observation.\n",
    "Examples include expanding.mean(), expanding.sum(), expanding.min(), expanding.max(), etc.\n",
    "Exponentially Weighted Moving Average (EWMA):\n",
    "\n",
    "These functions compute exponentially weighted moving averages over a specified window.\n",
    "Unlike rolling windows, where all observations have equal weight, EWMA gives more weight to recent observations and \n",
    "    less weight to older observations.\n",
    "Example: ewm.mean()."
   ]
  },
  {
   "cell_type": "code",
   "execution_count": null,
   "id": "b0eb4c3d-f2f3-4a4b-8f54-8612a324f956",
   "metadata": {},
   "outputs": [],
   "source": [
    "Q7. Write a code to print only the current month and year at the time of answering this question."
   ]
  },
  {
   "cell_type": "code",
   "execution_count": 29,
   "id": "397dc694-d639-40d3-89d6-040f8574b6fb",
   "metadata": {},
   "outputs": [
    {
     "name": "stdout",
     "output_type": "stream",
     "text": [
      "Current month: March\n",
      "Current year: 2024\n"
     ]
    }
   ],
   "source": [
    "from datetime import datetime\n",
    "\n",
    "# Get the current date and time\n",
    "current_date = datetime.now()\n",
    "\n",
    "# Extract the month and year from the current date\n",
    "current_month = current_date.strftime('%B')  # Full month name\n",
    "current_year = current_date.year\n",
    "\n",
    "# Print the current month and year\n",
    "print(\"Current month:\", current_month)\n",
    "print(\"Current year:\", current_year)\n"
   ]
  },
  {
   "cell_type": "code",
   "execution_count": null,
   "id": "a064b6e2-3197-44d9-ac7d-6f906bc427ac",
   "metadata": {},
   "outputs": [],
   "source": [
    "Q8. Write a Python program that takes in two dates as input (in the format YYYY-MM-DD) and\n",
    "calculates the difference between them in days, hours, and minutes using Pandas time delta. The\n",
    "program should prompt the user to enter the dates and display the result.\n",
    "\n",
    "answer:\n"
   ]
  },
  {
   "cell_type": "code",
   "execution_count": 30,
   "id": "59ecc25b-ae71-42a8-97b2-c13aa94e731a",
   "metadata": {},
   "outputs": [],
   "source": [
    "import pandas as pd"
   ]
  },
  {
   "cell_type": "code",
   "execution_count": 37,
   "id": "145c33de-71cb-42d9-aa0c-f4b6e702fd84",
   "metadata": {},
   "outputs": [
    {
     "name": "stdin",
     "output_type": "stream",
     "text": [
      "enter the starting date (yyyy-mm-dd): 2022-06-12\n",
      "enter the end date (yyyy-mm-dd): 2022-09-14\n"
     ]
    },
    {
     "name": "stdout",
     "output_type": "stream",
     "text": [
      "time difference \n",
      "difference of days  94\n",
      "hour difference  0\n",
      "minutes difference  0\n"
     ]
    }
   ],
   "source": [
    "def difference_dates(start_date,end_date):\n",
    "    start_date=pd.to_datetime(start_date)\n",
    "    end_date=pd.to_datetime(end_date)\n",
    "    difference = end_date - start_date\n",
    "    days=difference.days\n",
    "    hours=difference.seconds // 3600\n",
    "    minutes=(difference.seconds%3600) // 60\n",
    "    return days,hours,minutes\n",
    "\n",
    "start_date=input(\"enter the starting date (yyyy-mm-dd):\")\n",
    "end_date=input(\"enter the end date (yyyy-mm-dd):\")\n",
    "\n",
    "day_difference,hour_difference,minutes_difference = difference_dates(start_date,end_date)\n",
    "print(\"time difference \")\n",
    "print(\"difference of days \",day_difference)\n",
    "print(\"hour difference \",hour_difference)\n",
    "print(\"minutes difference \",minutes_difference)"
   ]
  },
  {
   "cell_type": "code",
   "execution_count": null,
   "id": "8d86a9d8-9bc7-4902-81f5-3305d7eb3ae6",
   "metadata": {},
   "outputs": [],
   "source": [
    "Q9. Write a Python program that reads a CSV file containing categorical data and converts a specified\n",
    "column to a categorical data type. The program should prompt the user to enter the file path, column\n",
    "name, and category order, and then display the sorted data."
   ]
  },
  {
   "cell_type": "code",
   "execution_count": null,
   "id": "61dc4aec-7512-4185-af2f-1227ec7653c5",
   "metadata": {},
   "outputs": [],
   "source": [
    "import pandas as pd\n",
    "\n",
    "def main():\n",
    "    # Prompt the user for the file path, column name, and category order\n",
    "    file_path = input(\"Enter the CSV file path: \")\n",
    "    column_name = input(\"Enter the column name to convert: \")\n",
    "    category_order = input(\"Enter the category order (comma-separated): \")\n",
    "\n",
    "    # Read the CSV file into a DataFrame\n",
    "    try:\n",
    "        df = pd.read_csv(file_path)\n",
    "    except FileNotFoundError:\n",
    "        print(f\"File not found at {file_path}. Please check the file path and try again.\")\n",
    "        return\n",
    "\n",
    "    # Convert the specified column to a categorical data type\n",
    "    try:\n",
    "        df[column_name] = df[column_name].astype('category')\n",
    "    except KeyError:\n",
    "        print(f\"Column '{column_name}' not found in the CSV file. Please check the column name and try again.\")\n",
    "        return\n",
    "\n",
    "    # Set the category order\n",
    "    category_order_list = category_order.split(',')\n",
    "    df[column_name] = df[column_name].cat.set_categories(category_order_list)\n",
    "\n",
    "    # Display the sorted data\n",
    "    sorted_df = df.sort_values(by=column_name)\n",
    "    print(sorted_df)\n",
    "\n",
    "if __name__ == \"__main__\":\n",
    "    main()\n"
   ]
  },
  {
   "cell_type": "code",
   "execution_count": null,
   "id": "cf2be50b-6471-4f1d-844f-8b3e13d39b64",
   "metadata": {},
   "outputs": [],
   "source": [
    "Q10. Write a Python program that reads a CSV file containing sales data for different products and\n",
    "visualizes the data using a stacked bar chart to show the sales of each product category over time. The\n",
    "program should prompt the user to enter the file path and display the chart."
   ]
  },
  {
   "cell_type": "code",
   "execution_count": null,
   "id": "460e23e1-9e89-4be9-9c77-d91d81580b4d",
   "metadata": {},
   "outputs": [],
   "source": [
    "import pandas as pd\n",
    "\n",
    "path=input(\"enter the file path:\")\n",
    "\n",
    "df=pd.read_excel(\"path\")\n",
    "df.plot(x= 'time',y= 'sales')"
   ]
  },
  {
   "cell_type": "code",
   "execution_count": null,
   "id": "ef38ad3e-e64f-4634-8b34-6ffbb78520d7",
   "metadata": {},
   "outputs": [],
   "source": [
    "Q11. You are given a CSV file containing student data that includes the student ID and their test score. Write\n",
    "a Python program that reads the CSV file, calculates the mean, median, and mode of the test scores, and\n",
    "displays the results in a table."
   ]
  },
  {
   "cell_type": "code",
   "execution_count": null,
   "id": "751014c7-14b5-4f5f-a045-71b3ac1fa139",
   "metadata": {},
   "outputs": [],
   "source": [
    "1,85\n",
    "2,90\n",
    "3,80\n",
    "4,75\n",
    "5,85\n",
    "6,82\n",
    "7,78\n",
    "8,85\n",
    "9,90\n",
    "10,85"
   ]
  },
  {
   "cell_type": "code",
   "execution_count": null,
   "id": "86147b00-cc12-41e8-bb54-dcf408122da0",
   "metadata": {},
   "outputs": [],
   "source": [
    "import csv\n",
    "\n",
    "# Open the file in write mode ('w')\n",
    "with open('persons.csv', 'w', newline='') as csvfile:\n",
    "    filewriter = csv.writer(csvfile, delimiter=',', quotechar='|', quoting=csv.QUOTE_MINIMAL)\n",
    "    filewriter.writerow([1, 85])\n",
    "    filewriter.writerow([2, 90])\n",
    "    filewriter.writerow([3, 80])\n",
    "    filewriter.writerow([4, 75])\n",
    "    filewriter.writerow([5, 85])\n",
    "    filewriter.writerow([6, 82])\n",
    "    filewriter.writerow([7, 78])\n",
    "    filewriter.writerow([8, 85])\n",
    "    filewriter.writerow([9, 90])\n",
    "    filewriter.writerow([10, 85])"
   ]
  },
  {
   "cell_type": "code",
   "execution_count": null,
   "id": "742469b0-2016-430c-b115-fa7184b6f05e",
   "metadata": {},
   "outputs": [],
   "source": [
    "import pandas as pd\n",
    "df=pd.read_csv(persons.csv)\n",
    "df.mean()\n",
    "df.mode()"
   ]
  }
 ],
 "metadata": {
  "kernelspec": {
   "display_name": "Python 3 (ipykernel)",
   "language": "python",
   "name": "python3"
  },
  "language_info": {
   "codemirror_mode": {
    "name": "ipython",
    "version": 3
   },
   "file_extension": ".py",
   "mimetype": "text/x-python",
   "name": "python",
   "nbconvert_exporter": "python",
   "pygments_lexer": "ipython3",
   "version": "3.11.7"
  }
 },
 "nbformat": 4,
 "nbformat_minor": 5
}
