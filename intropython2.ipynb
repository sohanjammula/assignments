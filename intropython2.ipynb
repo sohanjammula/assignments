{
 "cells": [
  {
   "cell_type": "code",
   "execution_count": null,
   "id": "48c37c91-a972-4c3e-a9e8-650b26595a65",
   "metadata": {},
   "outputs": [],
   "source": [
    "1. Write a program to accept percentage from the user and display the grade according to the following \n",
    "criteria: \n",
    "Marks \n",
    "Grade \n",
    ">90 \n",
    "A \n",
    ">80 and < 90 \n",
    "B \n",
    ">=60 and <=80 \n",
    "C \n",
    "below 60 \n",
    "D \n"
   ]
  },
  {
   "cell_type": "code",
   "execution_count": 1,
   "id": "5368ac18-a06e-4ab2-be5d-808d5ca2782d",
   "metadata": {
    "tags": []
   },
   "outputs": [
    {
     "name": "stdin",
     "output_type": "stream",
     "text": [
      "Enter your percentage:  50\n"
     ]
    },
    {
     "name": "stdout",
     "output_type": "stream",
     "text": [
      "Your grade is: D\n"
     ]
    }
   ],
   "source": [
    "# Program to accept percentage from the user and display the grade\n",
    "\n",
    "# Get the percentage from the user\n",
    "percentage = float(input(\"Enter your percentage: \"))\n",
    "\n",
    "# Determine the grade based on the percentage\n",
    "if percentage > 90:\n",
    "    grade = 'A'\n",
    "elif 80 < percentage <= 90:\n",
    "    grade = 'B'\n",
    "elif 60 <= percentage <= 80:\n",
    "    grade = 'C'\n",
    "else:\n",
    "    grade = 'D'\n",
    "\n",
    "# Display the grade\n",
    "print(f\"Your grade is: {grade}\")\n"
   ]
  },
  {
   "cell_type": "code",
   "execution_count": null,
   "id": "786d8ab3-736a-41c2-8025-19b5ec028262",
   "metadata": {},
   "outputs": [],
   "source": [
    "2. Write a program to accept the cost price of a bike and display the road tax to be paid according to the \n",
    "following criteria: \n",
    "Tax \n",
    "15% \n",
    "10% \n",
    "5% \n",
    "Cost Price(in Rs) \n",
    ">100000 \n",
    "50000 and <= 100000 \n",
    "<= 50000 \n"
   ]
  },
  {
   "cell_type": "code",
   "execution_count": 4,
   "id": "239289f5-2592-40ad-8b34-68a45ec55f0e",
   "metadata": {
    "tags": []
   },
   "outputs": [
    {
     "name": "stdin",
     "output_type": "stream",
     "text": [
      "Enter the cost price of the bike in Rs:  5600\n"
     ]
    },
    {
     "name": "stdout",
     "output_type": "stream",
     "text": [
      "The road tax to be paid is: Rs 280.00\n"
     ]
    }
   ],
   "source": [
    "# Program to accept the cost price of a bike and display the road tax\n",
    "\n",
    "# Get the cost price from the user\n",
    "cost_price = float(input(\"Enter the cost price of the bike in Rs: \"))\n",
    "\n",
    "# Determine the tax rate based on the cost price\n",
    "if cost_price > 100000:\n",
    "    tax = cost_price * 0.15\n",
    "elif 50000 < cost_price <= 100000:\n",
    "    tax = cost_price * 0.10\n",
    "else:\n",
    "    tax = cost_price * 0.05\n",
    "\n",
    "# Display the road tax\n",
    "print(f\"The road tax to be paid is: Rs {tax:.2f}\")\n"
   ]
  },
  {
   "cell_type": "code",
   "execution_count": null,
   "id": "06ef991f-1b48-426c-b8f9-11cb7b0271a3",
   "metadata": {},
   "outputs": [],
   "source": [
    "3. Accept any city from the user and display monuments of that city. \n",
    "City \n",
    "Delhi \n",
    "Agra \n",
    "Monument \n",
    "Red Fort \n",
    "Taj Mahal \n",
    "Jaipur \n",
    "Jal Mahal"
   ]
  },
  {
   "cell_type": "code",
   "execution_count": 6,
   "id": "eb85421f-fd3b-4193-9b74-3eb5062e89be",
   "metadata": {
    "tags": []
   },
   "outputs": [
    {
     "name": "stdin",
     "output_type": "stream",
     "text": [
      "Enter the name of the city:  delhi\n"
     ]
    },
    {
     "name": "stdout",
     "output_type": "stream",
     "text": [
      "Monument information is not available for this city.\n"
     ]
    }
   ],
   "source": [
    "# Program to accept a city from the user and display the corresponding monument\n",
    "\n",
    "# Dictionary to map cities to their monuments\n",
    "city_monuments = {\n",
    "    \"Delhi\": \"Red Fort\",\n",
    "    \"Agra\": \"Taj Mahal\",\n",
    "    \"Jaipur\": \"Jal Mahal\"\n",
    "}\n",
    "\n",
    "# Get the city from the user\n",
    "city = input(\"Enter the name of the city: \")\n",
    "\n",
    "# Determine and display the monument based on the city\n",
    "monument = city_monuments.get(city)\n",
    "if monument:\n",
    "    print(f\"The monument in {city} is {monument}.\")\n",
    "else:\n",
    "    print(\"Monument information is not available for this city.\")\n"
   ]
  },
  {
   "cell_type": "code",
   "execution_count": null,
   "id": "984200bf-a1e8-4df4-bc9e-8b39ba5e19fc",
   "metadata": {},
   "outputs": [],
   "source": [
    "4. Check how many times a given number can be divided by 3 before it is less than or equal to 10. \n"
   ]
  },
  {
   "cell_type": "code",
   "execution_count": 8,
   "id": "548bfdd4-1be1-48c0-bb45-ac1a544f4718",
   "metadata": {
    "tags": []
   },
   "outputs": [
    {
     "name": "stdin",
     "output_type": "stream",
     "text": [
      "Enter a number:  9\n"
     ]
    },
    {
     "name": "stdout",
     "output_type": "stream",
     "text": [
      "The number can be divided by 3 0 times before it is less than or equal to 10.\n"
     ]
    }
   ],
   "source": [
    "# Program to check how many times a given number can be divided by 3\n",
    "# before it is less than or equal to 10\n",
    "\n",
    "# Get the number from the user\n",
    "number = int(input(\"Enter a number: \"))\n",
    "\n",
    "# Initialize a counter for the number of divisions\n",
    "count = 0\n",
    "\n",
    "# Divide the number by 3 until it is less than or equal to 10\n",
    "while number > 10:\n",
    "    number //= 3\n",
    "    count += 1\n",
    "\n",
    "# Display the number of times the number can be divided by 3\n",
    "print(f\"The number can be divided by 3 {count} times before it is less than or equal to 10.\")\n"
   ]
  },
  {
   "cell_type": "markdown",
   "id": "9e071bfa-bffd-46c8-8b29-52b884c66599",
   "metadata": {},
   "source": [
    "## Why and When to Use `while` Loop in Python\n",
    "\n",
    "### Why Use a `while` Loop\n",
    "\n",
    "A `while` loop in Python is used when you want to repeatedly execute a block of code as long as a specified condition remains true. It is particularly useful in scenarios where you do not know in advance how many times the loop needs to execute. The `while` loop continues executing as long as the condition evaluates to `True`, and it stops when the condition becomes `False`.\n",
    "\n",
    "### When to Use a `while` Loop\n",
    "\n",
    "1. **When the Number of Iterations is Unknown**:\n",
    "   - Use a `while` loop when the number of iterations cannot be determined before the loop starts. For example, reading input from a user until they provide valid data.\n",
    "\n",
    "2. **Infinite Loops with Break Conditions**:\n",
    "   - Use a `while` loop to create an infinite loop with a break condition inside. This is useful for scenarios like continually checking for new messages or events until a termination condition is met.\n",
    "\n",
    "3. **Waiting for External Conditions**:\n",
    "   - When you need to wait for a certain external condition to change, such as waiting for a user to perform an action or for a process to complete.\n",
    "\n",
    "### Example of a `while` Loop\n",
    "\n",
    "Here is an example of a `while` loop that asks the user to guess a secret number until they guess it correctly:\n",
    "\n",
    "```python\n",
    "# Secret number\n",
    "secret_number = 7\n",
    "\n",
    "# User's guess initialization\n",
    "guess = None\n",
    "\n",
    "# Loop until the user guesses the correct number\n",
    "while guess != secret_number:\n",
    "    # Get user's guess\n",
    "    guess = int(input(\"Guess the secret number (between 1 and 10): \"))\n",
    "    \n",
    "    # Check if the guess is correct\n",
    "    if guess < secret_number:\n",
    "        print(\"Too low! Try again.\")\n",
    "    elif guess > secret_number:\n",
    "        print(\"Too high! Try again.\")\n",
    "    else:\n",
    "        print(\"Congratulations! You've guessed the secret number!\")\n",
    "\n",
    "# This message is displayed after the correct guess\n",
    "print(\"The game is over.\")\n"
   ]
  },
  {
   "cell_type": "code",
   "execution_count": null,
   "id": "2d421f48-329c-4909-8e98-94f7ad6205ce",
   "metadata": {},
   "outputs": [],
   "source": [
    "6. Use nested while loop to print 3 different pattern. "
   ]
  },
  {
   "cell_type": "code",
   "execution_count": 11,
   "id": "e1094c46-55cd-4bfd-b38d-55d121afa286",
   "metadata": {
    "tags": []
   },
   "outputs": [
    {
     "name": "stdout",
     "output_type": "stream",
     "text": [
      "Pattern 1: Right-angled triangle\n",
      "*\n",
      "**\n",
      "***\n",
      "****\n",
      "*****\n",
      "\n",
      "Pattern 2: Square\n",
      "****\n",
      "****\n",
      "****\n",
      "****\n",
      "\n",
      "Pattern 3: Pyramid\n",
      "    *\n",
      "   ***\n",
      "  *****\n",
      " *******\n",
      "*********\n"
     ]
    }
   ],
   "source": [
    "# Program to print 3 different patterns using nested while loops\n",
    "\n",
    "# Pattern 1: Right-angled triangle\n",
    "print(\"Pattern 1: Right-angled triangle\")\n",
    "rows = 5\n",
    "i = 1\n",
    "while i <= rows:\n",
    "    j = 1\n",
    "    while j <= i:\n",
    "        print(\"*\", end=\"\")\n",
    "        j += 1\n",
    "    print()  # Newline after each row\n",
    "    i += 1\n",
    "\n",
    "print()  # Blank line for separation\n",
    "\n",
    "# Pattern 2: Square\n",
    "print(\"Pattern 2: Square\")\n",
    "size = 4\n",
    "i = 1\n",
    "while i <= size:\n",
    "    j = 1\n",
    "    while j <= size:\n",
    "        print(\"*\", end=\"\")\n",
    "        j += 1\n",
    "    print()  # Newline after each row\n",
    "    i += 1\n",
    "\n",
    "print()  # Blank line for separation\n",
    "\n",
    "# Pattern 3: Pyramid\n",
    "print(\"Pattern 3: Pyramid\")\n",
    "height = 5\n",
    "i = 1\n",
    "while i <= height:\n",
    "    # Print leading spaces\n",
    "    spaces = height - i\n",
    "    while spaces > 0:\n",
    "        print(\" \", end=\"\")\n",
    "        spaces -= 1\n",
    "    \n",
    "    # Print stars\n",
    "    stars = 2 * i - 1\n",
    "    while stars > 0:\n",
    "        print(\"*\", end=\"\")\n",
    "        stars -= 1\n",
    "    \n",
    "    print()  # Newline after each row\n",
    "    i += 1\n"
   ]
  },
  {
   "cell_type": "code",
   "execution_count": null,
   "id": "90be58b7-ca65-4de7-ba0f-c7e92bdbe1fe",
   "metadata": {},
   "outputs": [],
   "source": [
    "7. Reverse a while loop to display numbers from 10 to 1. \n"
   ]
  },
  {
   "cell_type": "code",
   "execution_count": 13,
   "id": "3c110858-a9cb-4d90-b512-d19905f60a69",
   "metadata": {
    "tags": []
   },
   "outputs": [
    {
     "name": "stdout",
     "output_type": "stream",
     "text": [
      "10\n",
      "9\n",
      "8\n",
      "7\n",
      "6\n",
      "5\n",
      "4\n",
      "3\n",
      "2\n",
      "1\n"
     ]
    }
   ],
   "source": [
    "# Program to display numbers from 10 to 1 in reverse order using a while loop\n",
    "\n",
    "# Initialize the starting number\n",
    "number = 10\n",
    "\n",
    "# Loop until the number is less than 1\n",
    "while number >= 1:\n",
    "    print(number)\n",
    "    number -= 1\n"
   ]
  }
 ],
 "metadata": {
  "kernelspec": {
   "display_name": "Python 3 (ipykernel)",
   "language": "python",
   "name": "python3"
  },
  "language_info": {
   "codemirror_mode": {
    "name": "ipython",
    "version": 3
   },
   "file_extension": ".py",
   "mimetype": "text/x-python",
   "name": "python",
   "nbconvert_exporter": "python",
   "pygments_lexer": "ipython3",
   "version": "3.11.7"
  }
 },
 "nbformat": 4,
 "nbformat_minor": 5
}
