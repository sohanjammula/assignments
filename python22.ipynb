{
 "cells": [
  {
   "cell_type": "markdown",
   "id": "50f743b0-3996-4d25-9cd1-aa0845959bbd",
   "metadata": {},
   "source": [
    "## Q1. You are writing code for a company. The requirement of the company is that you create a python function that will check whether the password entered by the user is correct or not. The function should take the password as input and return the string “Valid Password” if the entered password follows the below-given password guidelines else it should return “Invalid Password”."
   ]
  },
  {
   "cell_type": "code",
   "execution_count": 4,
   "id": "73b3aafd-2311-41cb-acec-696f6d82323e",
   "metadata": {
    "tags": []
   },
   "outputs": [
    {
     "ename": "SyntaxError",
     "evalue": "invalid syntax (1391743339.py, line 3)",
     "output_type": "error",
     "traceback": [
      "\u001b[1;36m  Cell \u001b[1;32mIn[4], line 3\u001b[1;36m\u001b[0m\n\u001b[1;33m    The requirement is to create a Python function that checks whether a password entered by the user is correct or not. The function should take the password as input and return the string \"Valid Password\" if the entered password follows the guidelines, otherwise it should return \"Invalid Password\".\u001b[0m\n\u001b[1;37m        ^\u001b[0m\n\u001b[1;31mSyntaxError\u001b[0m\u001b[1;31m:\u001b[0m invalid syntax\n"
     ]
    }
   ],
   "source": [
    "## Password Validation Function\n",
    "\n",
    "The requirement is to create a Python function that checks whether a password entered by the user is correct or not. The function should take the password as input and return the string \"Valid Password\" if the entered password follows the guidelines, otherwise it should return \"Invalid Password\".\n",
    "\n",
    "### Password Guidelines:\n",
    "1. The password should contain at least two uppercase letters.\n",
    "2. The password should contain at least two lowercase letters.\n",
    "3. The password should contain at least one number.\n",
    "4. The password should contain at least three special characters.\n",
    "5. The length of the password should be exactly 10 characters.\n",
    "\n",
    "### Python Function Implementation\n",
    "\n",
    "```python\n",
    "import re\n",
    "\n",
    "def check_password(password):\n",
    "    # Check if the password length is exactly 10 characters\n",
    "    if len(password) != 10:\n",
    "        return \"Invalid Password\"\n",
    "    \n",
    "    # Check for at least two uppercase letters\n",
    "    if len(re.findall(r\"[A-Z]\", password)) < 2:\n",
    "        return \"Invalid Password\"\n",
    "    \n",
    "    # Check for at least two lowercase letters\n",
    "    if len(re.findall(r\"[a-z]\", password)) < 2:\n",
    "        return \"Invalid Password\"\n",
    "    \n",
    "    # Check for at least one digit\n",
    "    if len(re.findall(r\"[0-9]\", password)) < 1:\n",
    "        return \"Invalid Password\"\n",
    "    \n",
    "    # Check for at least three special characters\n",
    "    if len(re.findall(r\"[@#$%&*]\", password)) < 3:\n",
    "        return \"Invalid Password\"\n",
    "    \n",
    "    return \"Valid Password\"\n",
    "\n",
    "# Example usage\n",
    "password = \"Aa1@@@bbcc\"\n",
    "print(check_password(password))  # Output: Valid Password\n",
    "\n",
    "password = \"Aa1@bcde\"\n",
    "print(check_password(password))  # Output: Invalid Password\n"
   ]
  },
  {
   "cell_type": "code",
   "execution_count": 8,
   "id": "28fb867b-2eff-40dd-ab09-0c994002245d",
   "metadata": {
    "tags": []
   },
   "outputs": [
    {
     "name": "stdout",
     "output_type": "stream",
     "text": [
      "True\n",
      "False\n"
     ]
    }
   ],
   "source": [
    "## Solutions to the Given Questions\n",
    "\n",
    "### 1. Check if the string starts with a particular letter\n",
    "\n",
    "\n",
    "# Using lambda function\n",
    "starts_with_letter = lambda s, letter: s.startswith(letter)\n",
    "\n",
    "# Example usage\n",
    "print(starts_with_letter(\"apple\", \"a\"))  # Output: True\n",
    "print(starts_with_letter(\"banana\", \"a\"))  # Output: False\n"
   ]
  },
  {
   "cell_type": "code",
   "execution_count": 10,
   "id": "fdf5af6c-5e47-4c91-ba9c-57c3b8597253",
   "metadata": {
    "tags": []
   },
   "outputs": [
    {
     "name": "stdout",
     "output_type": "stream",
     "text": [
      "True\n",
      "False\n"
     ]
    }
   ],
   "source": [
    "# Using lambda function\n",
    "is_numeric = lambda s: s.isdigit()\n",
    "\n",
    "# Example usage\n",
    "print(is_numeric(\"12345\"))  # Output: True\n",
    "print(is_numeric(\"123a5\"))  # Output: False\n"
   ]
  },
  {
   "cell_type": "code",
   "execution_count": 12,
   "id": "433aa718-cef2-49d9-a4b9-b2e4c625d03b",
   "metadata": {
    "tags": []
   },
   "outputs": [
    {
     "name": "stdout",
     "output_type": "stream",
     "text": [
      "[('orange', 80), ('mango', 99), ('grapes', 1000)]\n"
     ]
    }
   ],
   "source": [
    "# Using lambda function\n",
    "fruits = [(\"mango\", 99), (\"orange\", 80), (\"grapes\", 1000)]\n",
    "sorted_fruits = sorted(fruits, key=lambda x: x[1])\n",
    "\n",
    "# Example usage\n",
    "print(sorted_fruits)  # Output: [('orange', 80), ('mango', 99), ('grapes', 1000)]\n"
   ]
  },
  {
   "cell_type": "code",
   "execution_count": 14,
   "id": "f86c8acb-aed3-4603-acdb-c433e2693c03",
   "metadata": {
    "tags": []
   },
   "outputs": [
    {
     "name": "stdout",
     "output_type": "stream",
     "text": [
      "[1, 4, 9, 16, 25, 36, 49, 64, 81, 100]\n"
     ]
    }
   ],
   "source": [
    "# Using list comprehension\n",
    "squares = [x**2 for x in range(1, 11)]\n",
    "\n",
    "# Example usage\n",
    "print(squares)  # Output: [1, 4, 9, 16, 25, 36, 49, 64, 81, 100]\n"
   ]
  },
  {
   "cell_type": "code",
   "execution_count": 16,
   "id": "8678ba7d-4e6c-4717-a2f0-69cd594375de",
   "metadata": {
    "tags": []
   },
   "outputs": [
    {
     "name": "stdout",
     "output_type": "stream",
     "text": [
      "[1.0, 1.26, 1.44, 1.59, 1.71, 1.82, 1.91, 2.0, 2.08, 2.15]\n"
     ]
    }
   ],
   "source": [
    "# Using list comprehension\n",
    "import math\n",
    "cube_roots = [round(x**(1/3), 2) for x in range(1, 11)]\n",
    "\n",
    "# Example usage\n",
    "print(cube_roots)  # Output: [1.0, 1.26, 1.44, 1.59, 1.71, 1.82, 1.91, 2.0, 2.08, 2.15]\n"
   ]
  },
  {
   "cell_type": "code",
   "execution_count": 18,
   "id": "01c824ec-3e6b-4dba-9f44-ffe0ea79ee23",
   "metadata": {
    "tags": []
   },
   "outputs": [
    {
     "name": "stdout",
     "output_type": "stream",
     "text": [
      "True\n",
      "False\n"
     ]
    }
   ],
   "source": [
    "# Using lambda function\n",
    "is_even = lambda x: x % 2 == 0\n",
    "\n",
    "# Example usage\n",
    "print(is_even(4))  # Output: True\n",
    "print(is_even(5))  # Output: False\n"
   ]
  },
  {
   "cell_type": "code",
   "execution_count": 20,
   "id": "0e81e2e7-fdd1-4b1f-9cfe-b154c2ae2578",
   "metadata": {
    "tags": []
   },
   "outputs": [
    {
     "name": "stdout",
     "output_type": "stream",
     "text": [
      "[1, 3, 5, 7, 9]\n"
     ]
    }
   ],
   "source": [
    "# Using filter function with lambda\n",
    "numbers = [1, 2, 3, 4, 5, 6, 7, 8, 9, 10]\n",
    "odd_numbers = list(filter(lambda x: x % 2 != 0, numbers))\n",
    "\n",
    "# Example usage\n",
    "print(odd_numbers)  # Output: [1, 3, 5, 7, 9]\n"
   ]
  },
  {
   "cell_type": "code",
   "execution_count": 22,
   "id": "328d345a-f655-41e9-81e1-52d700700767",
   "metadata": {
    "tags": []
   },
   "outputs": [
    {
     "name": "stdout",
     "output_type": "stream",
     "text": [
      "Positive numbers: [1, 2, 3, 4, 5, 6]\n",
      "Negative numbers: [-1, -2, -3, -4, -5]\n"
     ]
    }
   ],
   "source": [
    "# Using list comprehension\n",
    "numbers = [1, 2, 3, 4, 5, 6, -1, -2, -3, -4, -5, 0]\n",
    "positive_numbers = [x for x in numbers if x > 0]\n",
    "negative_numbers = [x for x in numbers if x < 0]\n",
    "\n",
    "# Example usage\n",
    "print(\"Positive numbers:\", positive_numbers)  # Output: Positive numbers: [1, 2, 3, 4, 5, 6]\n",
    "print(\"Negative numbers:\", negative_numbers)  # Output: Negative numbers: [-1, -2, -3, -4, -5]\n"
   ]
  },
  {
   "cell_type": "code",
   "execution_count": null,
   "id": "00eabd15-060c-4873-8be5-15f30cb09962",
   "metadata": {},
   "outputs": [],
   "source": []
  }
 ],
 "metadata": {
  "kernelspec": {
   "display_name": "Python 3 (ipykernel)",
   "language": "python",
   "name": "python3"
  },
  "language_info": {
   "codemirror_mode": {
    "name": "ipython",
    "version": 3
   },
   "file_extension": ".py",
   "mimetype": "text/x-python",
   "name": "python",
   "nbconvert_exporter": "python",
   "pygments_lexer": "ipython3",
   "version": "3.11.7"
  }
 },
 "nbformat": 4,
 "nbformat_minor": 5
}
