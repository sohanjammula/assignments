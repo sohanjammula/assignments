{
 "cells": [
  {
   "cell_type": "code",
   "execution_count": 1,
   "id": "6f893f42-4382-44b4-b238-a9d58d25b113",
   "metadata": {},
   "outputs": [],
   "source": [
    "import pandas as pd"
   ]
  },
  {
   "cell_type": "code",
   "execution_count": 2,
   "id": "5ad05086-1978-4b19-88f7-9f22d28a40b4",
   "metadata": {},
   "outputs": [],
   "source": [
    "data1=[4,8,15,16,23,42]"
   ]
  },
  {
   "cell_type": "code",
   "execution_count": 5,
   "id": "85a518c1-51bc-4fd9-8480-b20c2cbd76fe",
   "metadata": {},
   "outputs": [],
   "source": [
    "series1=pd.Series(data1)"
   ]
  },
  {
   "cell_type": "code",
   "execution_count": 6,
   "id": "97acbb28-cfdf-479c-a012-88523579048b",
   "metadata": {},
   "outputs": [
    {
     "data": {
      "text/plain": [
       "0     4\n",
       "1     8\n",
       "2    15\n",
       "3    16\n",
       "4    23\n",
       "5    42\n",
       "dtype: int64"
      ]
     },
     "execution_count": 6,
     "metadata": {},
     "output_type": "execute_result"
    }
   ],
   "source": [
    "series1"
   ]
  },
  {
   "cell_type": "code",
   "execution_count": 7,
   "id": "1feb325d-fba3-4b95-b164-e16a5df1331c",
   "metadata": {},
   "outputs": [
    {
     "name": "stdout",
     "output_type": "stream",
     "text": [
      "0     1\n",
      "1     2\n",
      "2     3\n",
      "3     4\n",
      "4     5\n",
      "5     6\n",
      "6     7\n",
      "7     8\n",
      "8     9\n",
      "9    10\n",
      "dtype: int64\n"
     ]
    }
   ],
   "source": [
    "import pandas as pd\n",
    "\n",
    "my_list = [1, 2, 3, 4, 5, 6, 7, 8, 9, 10]\n",
    "\n",
    "series = pd.Series(my_list)\n",
    "\n",
    "print(series)\n"
   ]
  },
  {
   "cell_type": "code",
   "execution_count": 9,
   "id": "285e4c69-d68e-4038-9fb2-9aa17dc5a9ed",
   "metadata": {},
   "outputs": [],
   "source": [
    "data2={\"Name\":[\"Alice\",\"Bob\",\"Claire\"],\n",
    "\"Age\":[\"25\",\"30\",\"27\"],\n",
    "\"Gender\":[\"Female\",\"Male\",\"Female\"]}"
   ]
  },
  {
   "cell_type": "code",
   "execution_count": 12,
   "id": "06d09f09-a3ce-4e58-8d8b-385b59b3a00d",
   "metadata": {},
   "outputs": [],
   "source": [
    "df=pd.DataFrame(data2)"
   ]
  },
  {
   "cell_type": "code",
   "execution_count": 13,
   "id": "1d1d8b32-d1bb-4dab-b2ec-6673b0c7d5d1",
   "metadata": {},
   "outputs": [
    {
     "data": {
      "text/html": [
       "<div>\n",
       "<style scoped>\n",
       "    .dataframe tbody tr th:only-of-type {\n",
       "        vertical-align: middle;\n",
       "    }\n",
       "\n",
       "    .dataframe tbody tr th {\n",
       "        vertical-align: top;\n",
       "    }\n",
       "\n",
       "    .dataframe thead th {\n",
       "        text-align: right;\n",
       "    }\n",
       "</style>\n",
       "<table border=\"1\" class=\"dataframe\">\n",
       "  <thead>\n",
       "    <tr style=\"text-align: right;\">\n",
       "      <th></th>\n",
       "      <th>Name</th>\n",
       "      <th>Age</th>\n",
       "      <th>Gender</th>\n",
       "    </tr>\n",
       "  </thead>\n",
       "  <tbody>\n",
       "    <tr>\n",
       "      <th>0</th>\n",
       "      <td>Alice</td>\n",
       "      <td>25</td>\n",
       "      <td>Female</td>\n",
       "    </tr>\n",
       "    <tr>\n",
       "      <th>1</th>\n",
       "      <td>Bob</td>\n",
       "      <td>30</td>\n",
       "      <td>Male</td>\n",
       "    </tr>\n",
       "    <tr>\n",
       "      <th>2</th>\n",
       "      <td>Claire</td>\n",
       "      <td>27</td>\n",
       "      <td>Female</td>\n",
       "    </tr>\n",
       "  </tbody>\n",
       "</table>\n",
       "</div>"
      ],
      "text/plain": [
       "     Name Age  Gender\n",
       "0   Alice  25  Female\n",
       "1     Bob  30    Male\n",
       "2  Claire  27  Female"
      ]
     },
     "execution_count": 13,
     "metadata": {},
     "output_type": "execute_result"
    }
   ],
   "source": [
    "df"
   ]
  },
  {
   "cell_type": "code",
   "execution_count": null,
   "id": "da256c32-70b5-4c53-af51-5114f9c4adbe",
   "metadata": {},
   "outputs": [],
   "source": [
    "Q4. What is ‘DataFrame’ in pandas and how is it different from pandas.series? Explain with an example.\n",
    "\n",
    "answer:\n",
    "In Pandas, a DataFrame is a two-dimensional, size-mutable, and heterogeneous tabular data structure with labeled axes (rows and columns).\n",
    "It can be thought of as a spreadsheet or SQL table, where data is stored in rows and columns. Each column in a DataFrame is a Pandas Series.\n",
    "\n",
    "On the other hand, a Pandas Series is a one-dimensional labeled array capable of holding data of any type (integer, float, string, etc.). \n",
    "It is similar to a one-column DataFrame but without column names, although it does have an index.\n",
    "\n",
    "Here's a breakdown of the differences between DataFrame and Series:\n",
    "\n",
    "Dimensionality:\n",
    "\n",
    "DataFrame: Two-dimensional (rows and columns).\n",
    "Series: One-dimensional (single column of data).\n",
    "Mutability:\n",
    "\n",
    "DataFrame: Size-mutable (can add or remove rows and columns).\n",
    "Series: Size-immutable (once created, the size cannot be changed).\n",
    "Heterogeneity:\n",
    "\n",
    "DataFrame: Can contain columns of different data types.\n",
    "Series: Contains data of a single data type.\n",
    "Labeling:\n",
    "\n",
    "DataFrame: Both rows and columns are labeled.\n",
    "Series: Only has one set of labels (the index).\n",
    "Methods and Attributes:\n",
    "\n",
    "DataFrame: Contains methods and attributes specific to two-dimensional data structures, such as df.head(), df.info(), and df.describe().\n",
    "Series: Contains methods and attributes specific to one-dimensional data structures, such as series.mean(), series.unique(), and series.value_counts()."
   ]
  },
  {
   "cell_type": "code",
   "execution_count": 1,
   "id": "9057d328-39a2-42c9-9342-f76694bfb1ae",
   "metadata": {},
   "outputs": [
    {
     "name": "stdout",
     "output_type": "stream",
     "text": [
      "DataFrame:\n",
      "    Name  Age           City\n",
      "0   John   25       New York\n",
      "1  Alice   30  San Francisco\n",
      "2    Bob   35        Seattle\n",
      "\n",
      "Series:\n",
      "0    25\n",
      "1    30\n",
      "2    35\n",
      "Name: Age, dtype: int64\n"
     ]
    }
   ],
   "source": [
    "import pandas as pd\n",
    "\n",
    "# Creating a DataFrame\n",
    "data = {'Name': ['John', 'Alice', 'Bob'],\n",
    "        'Age': [25, 30, 35],\n",
    "        'City': ['New York', 'San Francisco', 'Seattle']}\n",
    "\n",
    "df = pd.DataFrame(data)\n",
    "print(\"DataFrame:\")\n",
    "print(df)\n",
    "print()\n",
    "\n",
    "# Creating a Series\n",
    "ages = pd.Series([25, 30, 35], name='Age')\n",
    "print(\"Series:\")\n",
    "print(ages)\n"
   ]
  },
  {
   "cell_type": "code",
   "execution_count": null,
   "id": "4a3e5a42-d22c-4588-8f3a-c851bfe46342",
   "metadata": {},
   "outputs": [],
   "source": [
    "Q5. What are some common functions you can use to manipulate data in a Pandas DataFrame? Can\n",
    "you give an example of when you might use one of these functions?\n",
    "\n",
    "answer:\n",
    "Pandas provides a wide range of functions to manipulate data in a DataFrame. Some common functions include:\n",
    "\n",
    "head() and tail(): These functions allow you to view the first or last n rows of the DataFrame, respectively. \n",
    "They are helpful for quickly inspecting the structure and contents of the DataFrame.\n",
    "\n",
    "info() and describe(): info() provides a concise summary of the DataFrame, including data types, non-null values, and memory usage.\n",
    "describe() computes summary statistics for numerical columns, such as count, mean, standard deviation, minimum, and maximum values.\n",
    "\n",
    "shape: This attribute returns a tuple representing the dimensions (rows, columns) of the DataFrame.\n",
    "\n",
    "loc[] and iloc[]: These are used for indexing and selecting data. loc[] is label-based, meaning you specify rows and columns by their labels. \n",
    "iloc[] is integer-based, where you specify rows and columns by their integer index.\n",
    "\n",
    "drop(): This function is used to drop rows or columns from the DataFrame. You can specify the axis (0 for rows, 1 for columns) and labels or \n",
    "index positions to drop.\n",
    "\n",
    "fillna() and dropna(): fillna() is used to fill missing values in the DataFrame with specified values. dropna() is used to remove rows or columns\n",
    "with missing values.\n",
    "\n",
    "groupby(): This function is used to group data in the DataFrame based on specified criteria. It is often followed by an aggregation function\n",
    "(e.g., sum(), mean()) to compute summary statistics for each group.\n",
    "\n",
    "merge() and join(): These functions are used to combine multiple DataFrames based on common columns or indices.\n",
    "\n",
    "sort_values(): This function sorts the DataFrame by the values of one or more columns.\n",
    "\n",
    "apply() and applymap(): apply() is used to apply a function along an axis of the DataFrame. applymap() is used to apply a function element-wise to\n",
    "each element of the DataFrame."
   ]
  },
  {
   "cell_type": "code",
   "execution_count": 2,
   "id": "80e2def3-cb4e-4b4a-a2a2-0d1e6219e44b",
   "metadata": {},
   "outputs": [
    {
     "name": "stdout",
     "output_type": "stream",
     "text": [
      "  Product  Quantity  Price  TotalSales\n",
      "0       A        10      5          50\n",
      "1       B        20      8         160\n",
      "2       A        15      6          90\n",
      "3       B        25      7         175\n"
     ]
    }
   ],
   "source": [
    "import pandas as pd\n",
    "\n",
    "# Sample data\n",
    "data = {'Product': ['A', 'B', 'A', 'B'],\n",
    "        'Quantity': [10, 20, 15, 25],\n",
    "        'Price': [5, 8, 6, 7]}\n",
    "\n",
    "df = pd.DataFrame(data)\n",
    "\n",
    "# Define a function to compute total sales\n",
    "def compute_total(row):\n",
    "    return row['Quantity'] * row['Price']\n",
    "\n",
    "# Apply the function to each row and create a new column 'TotalSales'\n",
    "df['TotalSales'] = df.apply(compute_total, axis=1)\n",
    "\n",
    "print(df)\n"
   ]
  },
  {
   "cell_type": "code",
   "execution_count": null,
   "id": "99e3b254-df1e-41b8-b1fb-bdf5e70614b2",
   "metadata": {},
   "outputs": [],
   "source": [
    "Q6. Which of the following is mutable in nature Series, DataFrame, Panel?\n",
    "\n",
    "answer:\n",
    "\n",
    "Among the options provided (Series, DataFrame, Panel), the mutable nature applies to DataFrame.\n",
    "\n",
    "Series: Series objects in Pandas are immutable. Once created, you cannot modify the values or the index of a Series directly. However,\n",
    "you can create a new Series with modified values.\n",
    "\n",
    "DataFrame: DataFrame objects are mutable. You can modify the values, add or remove columns, and change the index or column labels of a DataFrame \n",
    "after it has been created.\n",
    "\n",
    "Panel: Panels were a data structure in Pandas that allowed for three-dimensional data storage (items, major axis, and minor axis). However, \n",
    "Panels have been deprecated since version 0.25.0 of Pandas, and users are encouraged to use other data structures like DataFrame or MultiIndex \n",
    "DataFrame for similar functionality.\n",
    "\n",
    "So, the correct answer is DataFrame."
   ]
  },
  {
   "cell_type": "code",
   "execution_count": null,
   "id": "5db772ad-d956-4d75-a9e3-62374b7e7af7",
   "metadata": {},
   "outputs": [],
   "source": [
    "Q7. Create a DataFrame using multiple Series. Explain with an example.\n",
    "\n",
    "answer:\n"
   ]
  },
  {
   "cell_type": "code",
   "execution_count": 3,
   "id": "eceb9ea7-22c4-4f64-82ac-4d6b28442ef0",
   "metadata": {},
   "outputs": [
    {
     "name": "stdout",
     "output_type": "stream",
     "text": [
      "    Name  Age           City\n",
      "0   John   25       New York\n",
      "1  Alice   30  San Francisco\n",
      "2    Bob   35        Seattle\n"
     ]
    }
   ],
   "source": [
    "import pandas as pd\n",
    "\n",
    "name_series = pd.Series(['John', 'Alice', 'Bob'])\n",
    "age_series = pd.Series([25, 30, 35])\n",
    "city_series = pd.Series(['New York', 'San Francisco', 'Seattle'])\n",
    "\n",
    "df = pd.DataFrame({\n",
    "    'Name': name_series,\n",
    "    'Age': age_series,\n",
    "    'City': city_series\n",
    "})\n",
    "\n",
    "print(df)\n"
   ]
  },
  {
   "cell_type": "code",
   "execution_count": 4,
   "id": "0cbe130f-1fc3-445f-ad36-4c3a3d7a4bb1",
   "metadata": {},
   "outputs": [
    {
     "name": "stdout",
     "output_type": "stream",
     "text": [
      "Name              John\n",
      "Age                 25\n",
      "Occupation    Engineer\n",
      "Name: 0, dtype: object\n"
     ]
    }
   ],
   "source": [
    "import pandas as pd\n",
    "\n",
    "data = {'Name': ['John', 'Jane', 'Jim', 'Joan'],\n",
    "\n",
    "        'Age': [25, 30, 35, 40],\n",
    "\n",
    "        'Occupation': ['Engineer', 'Doctor', 'Teacher', 'Lawyer']}\n",
    "\n",
    "df = pd.DataFrame(data)\n",
    "\n",
    "print(df.loc[0])"
   ]
  },
  {
   "cell_type": "code",
   "execution_count": null,
   "id": "f5d86938-809d-47ea-94a8-63640949d5ef",
   "metadata": {},
   "outputs": [],
   "source": []
  }
 ],
 "metadata": {
  "kernelspec": {
   "display_name": "Python 3 (ipykernel)",
   "language": "python",
   "name": "python3"
  },
  "language_info": {
   "codemirror_mode": {
    "name": "ipython",
    "version": 3
   },
   "file_extension": ".py",
   "mimetype": "text/x-python",
   "name": "python",
   "nbconvert_exporter": "python",
   "pygments_lexer": "ipython3",
   "version": "3.11.7"
  }
 },
 "nbformat": 4,
 "nbformat_minor": 5
}
